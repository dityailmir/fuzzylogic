{
  "nbformat": 4,
  "nbformat_minor": 0,
  "metadata": {
    "colab": {
      "name": "FUZZYLOGIC_CREDITCARD.ipynb",
      "provenance": [],
      "collapsed_sections": []
    },
    "kernelspec": {
      "name": "python3",
      "display_name": "Python 3"
    },
    "language_info": {
      "name": "python"
    }
  },
  "cells": [
    {
      "cell_type": "markdown",
      "metadata": {
        "id": "Mnm_YMktXUBk"
      },
      "source": [
        "\n",
        "\n",
        "\n",
        "TUGAS PEMROGRAMAN 2 SISTEM CERDAS\n",
        "(FUZZY LOGIC)\n",
        "\n",
        "\n",
        "\n",
        "---\n",
        "\n",
        "I GUSTI AGUNG ISTRI SAVITRI MAHARANI (1303193085)\n",
        "\n",
        "ELIZA FATRISIA (1303190039)\n",
        "\n",
        "DITYA ILMI RIZQI (1303191119)\n",
        "\n",
        "IT-43-03\n"
      ]
    },
    {
      "cell_type": "code",
      "metadata": {
        "id": "hJzSNROxXSlV"
      },
      "source": [
        "import csv\n",
        "import math\n",
        "import numpy as np\n",
        "import matplotlib.pyplot as plt\n",
        "import pandas as pd"
      ],
      "execution_count": null,
      "outputs": []
    },
    {
      "cell_type": "code",
      "metadata": {
        "id": "tz5PK0Gu-XAK"
      },
      "source": [
        "individu = []\n",
        "pendapatan = []\n",
        "hutang = []\n",
        "fuzzypendapatan = []\n",
        "fuzzyhutang = []"
      ],
      "execution_count": null,
      "outputs": []
    },
    {
      "cell_type": "code",
      "metadata": {
        "id": "5pUBlWHD-isJ"
      },
      "source": [
        "Data = pd.read_excel('databaru.xlsx')"
      ],
      "execution_count": null,
      "outputs": []
    },
    {
      "cell_type": "code",
      "metadata": {
        "id": "UfZTY9nX-lOo"
      },
      "source": [
        "for i in range(100):\n",
        "    j = Data.at[i, 'ID']\n",
        "    p = Data.at[i, 'Pendapatan']\n",
        "    e = Data.at[i, 'Hutang']\n",
        "    individu.append(j)\n",
        "    pendapatan.append(p)\n",
        "    hutang.append(e)"
      ],
      "execution_count": null,
      "outputs": []
    },
    {
      "cell_type": "code",
      "metadata": {
        "colab": {
          "base_uri": "https://localhost:8080/",
          "height": 265
        },
        "id": "YkOQp_sG-nDo",
        "outputId": "02a9c7dd-c34f-4cbc-c70a-d1fdcad73dbe"
      },
      "source": [
        "a = 1\n",
        "b = 2\n",
        "c = 4\n",
        "\n",
        "b2 = 5\n",
        "c2 = 0.5\n",
        "\n",
        "a3 = 6\n",
        "b3 = 8\n",
        "c3 = 10\n",
        "\n",
        "#pendifinisan fungsi sigmoid dan beta\n",
        "def Rendah(x):\n",
        "    if (x <= a):\n",
        "        return 1\n",
        "    elif ((a < x) and (x <= b)):\n",
        "        return 1-2*(((x-a)/(c-a))**2)\n",
        "    elif ((b < x) and (x < c)):\n",
        "        return (2*((c-x)/(c-a))**2)\n",
        "    elif (x >= c):\n",
        "        return 0\n",
        "    \n",
        "def Sedang(x):\n",
        "      return 1/(1+abs((x-b2)/c2)**2)\n",
        "\n",
        "def Tinggi(x):\n",
        "    if (x <= a3):\n",
        "        return 0\n",
        "    elif ((a3 < x) and (x <= b3)):\n",
        "        return 2*(((x-a3)/(c3-a3))**2)\n",
        "    elif ((b3 < x) and (x < c3)):\n",
        "        return 1-(2*((c3-x)/(c3-a3))**2)\n",
        "    else:\n",
        "        return 1 \n",
        "\n",
        "x = np.arange(1, 10, 0.01)\n",
        "\n",
        "y1 = []\n",
        "y2 = []\n",
        "y3 = []\n",
        "for i in np.nditer(x):\n",
        "    y1.append(Rendah(i))\n",
        "    y2.append(Sedang(i))\n",
        "    y3.append(Tinggi(i))\n",
        "\n",
        "plt.plot(x, y1, label='Pend Rendah')\n",
        "plt.plot(x, y2, label='Pend Sedang')\n",
        "plt.plot(x, y3, label='Pend Tinggi')\n",
        "plt.legend(loc='upper left')\n",
        "\n",
        "#pengisian fuzzyset  indeks 1: Rendah, indeks 2: Sedang, Indeks 3: Tinggi\n",
        "for i in pendapatan:\n",
        "    temp1 = [\"Rendah\", (Rendah(float(i)))]\n",
        "    temp2 = [\"Sedang\", (Sedang(float(i)))]\n",
        "    temp3 = [\"Tinggi\", (Tinggi(float(i)))]\n",
        "    fuzzypendapatan.append([temp1, temp2, temp3])\n"
      ],
      "execution_count": null,
      "outputs": [
        {
          "output_type": "display_data",
          "data": {
            "image/png": "[encoded data removed]",
            "text/plain": [
              "<Figure size 432x288 with 1 Axes>"
            ]
          },
          "metadata": {
            "tags": [],
            "needs_background": "light"
          }
        }
      ]
    },
    {
      "cell_type": "code",
      "metadata": {
        "colab": {
          "base_uri": "https://localhost:8080/",
          "height": 265
        },
        "id": "FkJSOYcI-77w",
        "outputId": "c8d1a529-ea77-40ce-c581-9b30549cf1c0"
      },
      "source": [
        "a = 15.0\n",
        "b = 20.0\n",
        "c = 25.0\n",
        "\n",
        "b2 = 30.0\n",
        "c2 = 2.\n",
        "\n",
        "a3 = 40.0\n",
        "b3 = 50.0\n",
        "c3 = 60.0  \n",
        "\n",
        "#visualisasi data fuzzyset untuk Hutang\n",
        "\n",
        "#pendifinisan fungsi sigmoid dan beta\n",
        "def Kecil(x):\n",
        "    if (x <= a):\n",
        "        return 1\n",
        "    elif ((a < x) and (x <= b)):\n",
        "        return 1-2*(((x-a)/(c-a))**2)\n",
        "    elif ((b < x) and (x < c)):\n",
        "        return (2*((c-x)/(c-a))**2)\n",
        "    elif (x >= c):\n",
        "        return 0\n",
        "    \n",
        "def Sedang(x):\n",
        "      return 1/(1+abs((x-b2)/c2)**2)\n",
        "\n",
        "def Besar(x):\n",
        "    if (x <= a3):\n",
        "        return 0\n",
        "    elif ((a3 < x) and (x <= b3)):\n",
        "        return 2*(((x-a3)/(c3-a3))**2)\n",
        "    elif ((b3 < x) and (x < c3)):\n",
        "        return 1-(2*((c3-x)/(c3-a3))**2)\n",
        "    else:\n",
        "        return 1 \n",
        "\n",
        "x = np.arange(0, 80, 0.01)\n",
        "\n",
        "y1 = []\n",
        "y2 = []\n",
        "y3 = []\n",
        "for i in np.nditer(x):\n",
        "    y1.append(Kecil(i))\n",
        "    y2.append(Sedang(i))\n",
        "    y3.append(Besar(i))\n",
        "\n",
        "plt.plot(x, y1, label='Hutang Kecil')\n",
        "plt.plot(x, y2, label='Hutang Sedang')\n",
        "plt.plot(x, y3, label='Hutang Besar')\n",
        "plt.legend(loc='upper left')\n",
        "\n",
        "#pengisian fuzzyset  indeks 1: Kecil, indeks 2: Sedang, Indeks 3: Besar\n",
        "for i in hutang:\n",
        "    temp1 = [\"Kecil\", (Kecil(float(i)))]\n",
        "    temp2 = [\"Sedang\", (Sedang(float(i)))]\n",
        "    temp3 = [\"Besar\", (Besar(float(i)))]\n",
        "    fuzzyhutang.append([temp1, temp2, temp3])\n"
      ],
      "execution_count": null,
      "outputs": [
        {
          "output_type": "display_data",
          "data": {
            "image/png": "[encoded data removed]",
            "text/plain": [
              "<Figure size 432x288 with 1 Axes>"
            ]
          },
          "metadata": {
            "tags": [],
            "needs_background": "light"
          }
        }
      ]
    },
    {
      "cell_type": "code",
      "metadata": {
        "id": "DDIQ3ryN_rVx"
      },
      "source": [
        "Fuzzification = []\n",
        "DFuzzy = [] #Penampungan data hasil Disjungsi\n",
        "CFuzzy = [] #penampungan data hasil conjungsi\n",
        "    \n",
        "#fuzzy rule\n",
        "def FuzzyRule (a) :\n",
        "    if ((a[0][0] == \"Rendah\") and (a[1][0] == \"Kecil\") and (a[0][1] < a[1][1])):\n",
        "        return [\"True\",a[0][1]]\n",
        "    if ((a[0][0] == \"Rendah\") and (a[1][0] == \"Sedang\") and (a[0][1] < a[1][1])):\n",
        "        return [\"False\",a[0][1]]\n",
        "    if ((a[0][0] == \"Rendah\") and (a[1][0] == \"Besar\") and (a[0][1] < a[1][1])):\n",
        "        return [\"False\",a[0][1]]\n",
        "    if ((a[0][0] == \"Sedang\") and (a[1][0] == \"Kecil\") and (a[0][1] < a[1][1])):\n",
        "        return [\"True\",a[0][1]]\n",
        "    if ((a[0][0] == \"Sedang\") and (a[1][0] == \"Sedang\") and (a[0][1] < a[1][1])):\n",
        "        return [\"True\",a[0][1]]\n",
        "    if ((a[0][0] == \"Sedang\") and (a[1][0] == \"Besar\") and (a[0][1] < a[1][1])):\n",
        "        return [\"False\",a[0][1]]\n",
        "    if ((a[0][0] == \"Tinggi\") and (a[1][0] == \"Kecil\") and (a[0][1] < a[1][1])):\n",
        "        return [\"True\",a[0][1]]\n",
        "    if ((a[0][0] == \"Tinggi\") and (a[1][0] == \"Sedang\") and (a[0][1] < a[1][1])):\n",
        "        return [\"True\",a[0][1]]\n",
        "    if ((a[0][0] == \"Tinggi\") and (a[1][0] == \"Besar\") and (a[0][1] < a[1][1])):\n",
        "        return [\"True\",a[0][1]]\n",
        "    \n",
        "    if ((a[0][0] == \"Rendah\") and (a[1][0] == \"Kecil\") and (a[0][1] >= a[1][1])):\n",
        "        return [\"True\",a[1][1]]\n",
        "    if ((a[0][0] == \"Rendah\") and (a[1][0] == \"Sedang\") and (a[0][1] >= a[1][1])):\n",
        "        return [\"False\",a[1][1]]\n",
        "    if ((a[0][0] == \"Rendah\") and (a[1][0] == \"Besar\") and (a[0][1] >= a[1][1])):\n",
        "        return [\"False\",a[1][1]]\n",
        "    if ((a[0][0] == \"Sedang\") and (a[1][0] == \"Kecil\") and (a[0][1] >= a[1][1])):\n",
        "        return [\"True\",a[1][1]]\n",
        "    if ((a[0][0] == \"Sedang\") and (a[1][0] == \"Sedang\") and (a[0][1] >= a[1][1])):\n",
        "        return [\"True\",a[1][1]]\n",
        "    if ((a[0][0] == \"Sedang\") and (a[1][0] == \"Besar\") and (a[0][1] >= a[1][1])):\n",
        "        return [\"False\",a[1][1]]\n",
        "    if ((a[0][0] == \"Tinggi\") and (a[1][0] == \"Kecil\") and (a[0][1] >= a[1][1])):\n",
        "        return [\"True\",a[1][1]]\n",
        "    if ((a[0][0] == \"Tinggi\") and (a[1][0] == \"Sedang\") and (a[0][1] >= a[1][1])):\n",
        "        return [\"True\",a[1][1]]\n",
        "    if ((a[0][0] == \"Tinggi\") and (a[1][0] == \"Besar\") and (a[0][1] >= a[1][1])):\n",
        "        return [\"True\",a[1][1]]\n",
        "\n",
        "def disjunct(a,b):\n",
        "    temp = [\"Ya\", 0]\n",
        "    temp2 = [\"Tidak\", 0]\n",
        "    for i in range(len(a)):\n",
        "        if ((a[i][0]) == \"False\"):\n",
        "            if ((a[i][1]) > temp2[1]):\n",
        "                temp2 = [\"Tidak\", a[i][1]]\n",
        "        elif ((a[i][0] == \"True\")):\n",
        "            if ((a[i][1]) > temp[1]):\n",
        "                temp = [\"Ya\", a[i][1]]\n",
        "    return [b+1,temp,temp2]\n",
        "  "
      ],
      "execution_count": null,
      "outputs": []
    },
    {
      "cell_type": "code",
      "metadata": {
        "id": "RxmV6Kh7AP7N"
      },
      "source": [
        "temp = []\n",
        "for i in range(len(DataKepalaKeluarga)):\n",
        "    for j in range(len(FuzzysetHutang[i])):\n",
        "        for k in range(len(FuzzysetPendapatan[j])):\n",
        "            temp = [FuzzysetPendapatan[i][j],FuzzysetHutang[j][k]]\n",
        "            Fuzzification.append(temp)\n",
        "\n",
        "#Penampungan data Konjungsi\n",
        "count = 0\n",
        "temp = []\n",
        "for i in range(len(Fuzzification)):    \n",
        "    if (count < 8):\n",
        "        count += 1\n",
        "        temp.append(FuzzyRule(Fuzzification[i]))\n",
        "    else:\n",
        "        CFuzzy.append(temp)\n",
        "        count = 0\n",
        "        temp = []\n",
        "        \n",
        "#Penampungan data Disjungsi (Final Defuzzification)\n",
        "for i in range(len(CFuzzy)):\n",
        "    DFuzzy.append(disjunct(CFuzzy[i],i))"
      ],
      "execution_count": null,
      "outputs": []
    },
    {
      "cell_type": "code",
      "metadata": {
        "colab": {
          "base_uri": "https://localhost:8080/"
        },
        "id": "fJ3XnOZUASP1",
        "outputId": "ce5575dd-0177-4216-c76e-9a1662bf08f1"
      },
      "source": [
        "DFuzzy"
      ],
      "execution_count": null,
      "outputs": [
        {
          "output_type": "execute_result",
          "data": {
            "text/plain": [
              "[[1, ['Ya', 0.0030861919619424704], ['Tidak', 0.28741256587136443]],\n",
              " [2, ['Ya', 0.0030861919619424704], ['Tidak', 0.48793738267562053]],\n",
              " [3, ['Ya', 0.057652968185541824], ['Tidak', 0.09888692125150172]],\n",
              " [4, ['Ya', 0.3666988776776089], ['Tidak', 0.06763756953498345]],\n",
              " [5, ['Ya', 0.3054502653760941], ['Tidak', 0.05030859314844114]],\n",
              " [6, ['Ya', 0.0030861919619424704], ['Tidak', 0.5150302923002626]],\n",
              " [7, ['Ya', 0.0030861919619424704], ['Tidak', 0.2059403135327351]],\n",
              " [8, ['Ya', 0.6652378509362815], ['Tidak', 0.03245085280903685]],\n",
              " [9, ['Ya', 0.7713889928629475], ['Tidak', 0.04424676655303055]],\n",
              " [10, ['Ya', 0.962849568555789], ['Tidak', 0.03251478537928444]],\n",
              " [11, ['Ya', 1], ['Tidak', 0.014983847651410186]],\n",
              " [12, ['Ya', 0.6074233829332109], ['Tidak', 0.05298158235984372]],\n",
              " [13, ['Ya', 0.0030861919619424704], ['Tidak', 0.26895118280224944]],\n",
              " [14, ['Ya', 0.9964916352741586], ['Tidak', 0.02855699927147197]],\n",
              " [15, ['Ya', 0.010547420890293596], ['Tidak', 0.1600946623201344]],\n",
              " [16, ['Ya', 0.5306952340893436], ['Tidak', 0.0571337448597769]],\n",
              " [17, ['Ya', 0.08700673477528593], ['Tidak', 0.0864161440489013]],\n",
              " [18, ['Ya', 0.0030861919619424704], ['Tidak', 0.4166975667700222]],\n",
              " [19, ['Ya', 0.13421135192814243], ['Tidak', 0.07335170906486944]],\n",
              " [20, ['Ya', 0.6842746709064929], ['Tidak', 0.031892691844597934]],\n",
              " [21, ['Ya', 0.9995645540316287], ['Tidak', 0.01572541763474416]],\n",
              " [22, ['Ya', 0.0030861919619424704], ['Tidak', 0.9916052278984384]],\n",
              " [23, ['Ya', 0.9765008610497209], ['Tidak', 0.01817619244564423]],\n",
              " [24, ['Ya', 0.3253951177922863], ['Tidak', 0.04869094247413507]],\n",
              " [25, ['Ya', 1], ['Tidak', 0.012834244149638222]],\n",
              " [26, ['Ya', 0.028446776293850725], ['Tidak', 0.1194125908231205]],\n",
              " [27, ['Ya', 0.024914183873348004], ['Tidak', 0.14316197637315584]],\n",
              " [28, ['Ya', 0.8946468958289284], ['Tidak', 0.022290064345649733]],\n",
              " [29, ['Ya', 1], ['Tidak', 0.01564920294812695]],\n",
              " [30, ['Ya', 1], ['Tidak', 0.012668959712328192]],\n",
              " [31, ['Ya', 1], ['Tidak', 0.01869687513876588]],\n",
              " [32, ['Ya', 0.3093494762113216], ['Tidak', 0.04998205438905762]],\n",
              " [33, ['Ya', 0.0030861919619424704], ['Tidak', 0.18283820518127716]],\n",
              " [34, ['Ya', 0.0030861919619424704], ['Tidak', 0.29434826992104873]],\n",
              " [35, ['Ya', 0.0030861919619424704], ['Tidak', 0.5572374288771532]],\n",
              " [36, ['Ya', 0.3273003932269046], ['Tidak', 0.07096730730992959]],\n",
              " [37, ['Ya', 1], ['Tidak', 0.012061876163946737]],\n",
              " [38, ['Ya', 1], ['Tidak', 0.020533417733523702]],\n",
              " [39, ['Ya', 0.7837269571583886], ['Tidak', 0.026792296440118754]],\n",
              " [40, ['Ya', 1], ['Tidak', 0.02054185650887684]],\n",
              " [41, ['Ya', 0.34308487067504945], ['Tidak', 0.0695821202575867]],\n",
              " [42, ['Ya', 0.997321350924022], ['Tidak', 0.01625093405301713]],\n",
              " [43, ['Ya', 0.0030861919619424704], ['Tidak', 0.29572507571722356]],\n",
              " [44, ['Ya', 0.0030861919619424704], ['Tidak', 0.19773160636066023]],\n",
              " [45, ['Ya', 0.0030861919619424704], ['Tidak', 0.3534671724911874]],\n",
              " [46, ['Ya', 0.9914182972221091], ['Tidak', 0.0169877262115267]],\n",
              " [47, ['Ya', 0.3968977444556476], ['Tidak', 0.043791304816154744]],\n",
              " [48, ['Ya', 0.9973554325544876], ['Tidak', 0.01624517658346102]],\n",
              " [49, ['Ya', 0.0030861919619424704], ['Tidak', 0.24776455123531482]],\n",
              " [50, ['Ya', 0.8679702470822778], ['Tidak', 0.027446833169207253]],\n",
              " [51, ['Ya', 0.10262766625112806], ['Tidak', 0.08140729352692959]],\n",
              " [52, ['Ya', 0.2608149056704027], ['Tidak', 0.05446165804389769]],\n",
              " [53, ['Ya', 0.0030861919619424704], ['Tidak', 0.39249233896978813]],\n",
              " [54, ['Ya', 0.0030861919619424704], ['Tidak', 0.3825320353417736]],\n",
              " [55, ['Ya', 0.0030861919619424704], ['Tidak', 0.16844262064370305]],\n",
              " [56, ['Ya', 0.8059989597404716], ['Tidak', 0.025911496164080998]],\n",
              " [57, ['Ya', 0.007534631822676738], ['Tidak', 0.15131554058959645]],\n",
              " [58, ['Ya', 0.0030861919619424704], ['Tidak', 0.5235425802321959]],\n",
              " [59, ['Ya', 0.835366121963185], ['Tidak', 0.028131446980219636]],\n",
              " [60, ['Ya', 0.0030861919619424704], ['Tidak', 0.9963679211114754]],\n",
              " [61, ['Ya', 0.0030861919619424704], ['Tidak', 0.5027798309756287]],\n",
              " [62, ['Ya', 1], ['Tidak', 0.022019644032528266]],\n",
              " [63, ['Ya', 1], ['Tidak', 0.01194910166185236]],\n",
              " [64, ['Ya', 1], ['Tidak', 0.011607451495761329]],\n",
              " [65, ['Ya', 1], ['Tidak', 0.011328911172163992]],\n",
              " [66, ['Ya', 0.9792584232974955], ['Tidak', 0.017986585282358695]],\n",
              " [67, ['Ya', 1], ['Tidak', 0.014465898120825278]],\n",
              " [68, ['Ya', 0.9394527033226764], ['Tidak', 0.034325685765969206]],\n",
              " [69, ['Ya', 0.021232228197197018], ['Tidak', 0.14666175227075517]],\n",
              " [70, ['Ya', 0.0030861919619424704], ['Tidak', 0.6924592272393407]],\n",
              " [71, ['Ya', 0.0030861919619424704], ['Tidak', 0.2515927798002796]],\n",
              " [72, ['Ya', 0.9502422333187792], ['Tidak', 0.019703066859837602]],\n",
              " [73, ['Ya', 0.8863640873385629], ['Tidak', 0.02264370218543539]],\n",
              " [74, ['Ya', 0.0030861919619424704], ['Tidak', 0.9882574145027904]],\n",
              " [75, ['Ya', 0.0030861919619424704], ['Tidak', 0.20219626700184487]],\n",
              " [76, ['Ya', 0.8182063045369485], ['Tidak', 0.02542643526769932]],\n",
              " [77, ['Ya', 1], ['Tidak', 0.026916178183146403]],\n",
              " [78, ['Ya', 1], ['Tidak', 0.013056069263318846]],\n",
              " [79, ['Ya', 0.0030861919619424704], ['Tidak', 0.3785059528836558]],\n",
              " [80, ['Ya', 0.22664090242268345], ['Tidak', 0.05827953794058259]],\n",
              " [81, ['Ya', 0.6387844973536971], ['Tidak', 0.051306525580469324]],\n",
              " [82, ['Ya', 1], ['Tidak', 0.011036702939549526]],\n",
              " [83, ['Ya', 1], ['Tidak', 0.015114404846842905]],\n",
              " [84, ['Ya', 0.0030861919619424704], ['Tidak', 0.3212050463466565]],\n",
              " [85, ['Ya', 0.0030861919619424704], ['Tidak', 0.9292540034501697]],\n",
              " [86, ['Ya', 0.0030861919619424704], ['Tidak', 0.2133392308093217]],\n",
              " [87, ['Ya', 0.9936422038969548], ['Tidak', 0.016749915010535993]],\n",
              " [88, ['Ya', 0.9083429483660048], ['Tidak', 0.021692664410918324]],\n",
              " [89, ['Ya', 0.46253406754257204], ['Tidak', 0.040213503615051716]],\n",
              " [90, ['Ya', 1], ['Tidak', 0.01558740299568926]],\n",
              " [91, ['Ya', 0.9803343577400471], ['Tidak', 0.030866467572749193]],\n",
              " [92, ['Ya', 0.02879881567447121], ['Tidak', 0.11907144091590076]],\n",
              " [93, ['Ya', 1], ['Tidak', 0.02383091539718333]],\n",
              " [94, ['Ya', 1], ['Tidak', 0.011062800741702636]],\n",
              " [95, ['Ya', 0.0030861919619424704], ['Tidak', 0.6591035746102988]],\n",
              " [96, ['Ya', 0.04937146995913937], ['Tidak', 0.12644074632944544]],\n",
              " [97, ['Ya', 0.0030861919619424704], ['Tidak', 0.16987743092658142]],\n",
              " [98, ['Ya', 0.2556000220664532], ['Tidak', 0.05500371255188456]],\n",
              " [99, ['Ya', 0.0030861919619424704], ['Tidak', 0.25723436388062776]],\n",
              " [100, ['Ya', 0.770008709950721], ['Tidak', 0.029628006121815254]]]"
            ]
          },
          "metadata": {
            "tags": []
          },
          "execution_count": 204
        }
      ]
    },
    {
      "cell_type": "code",
      "metadata": {
        "id": "22D6uM-4AsvA"
      },
      "source": [
        "Tidak = 100\n",
        "Ya = 1\n",
        "\n",
        "def Sugeno(a,b):\n",
        "    return (a*Tidak + b*Ya)/(a+b)"
      ],
      "execution_count": null,
      "outputs": []
    },
    {
      "cell_type": "code",
      "metadata": {
        "id": "_fs3A9YwB5NK"
      },
      "source": [
        "DeFuzzification = []\n",
        "for i in range(len(DFuzzy)):\n",
        "    a = DFuzzy[i][1][1]\n",
        "    b = DFuzzy[i][2][1]\n",
        "    DeFuzzification.append([i+1,Sugeno(a,b)])\n",
        "    \n",
        "#sort hasil fuzzy untuk memilih 20 hasil terbaik\n",
        "DeFuzzification = sorted(DeFuzzification, key=lambda kk: kk[1], reverse = True)\n",
        "\n",
        "#Save data teratas ke file csv, hasil 20 teratas merupakan keluarga yang mendapatkan tunjangan\n",
        "#Format Data (x,y) x merupakan no urut kepala keluarga, dengan y sebagai nilai kelayakan\n",
        "with open('PermohonanKartuKredit_ACC.csv', 'w', newline='') as csvfile:\n",
        "    spamwriter = csv.writer(csvfile, delimiter=',',\n",
        "                            quotechar='|', quoting=csv.QUOTE_MINIMAL)\n",
        "    spamwriter.writerow([\"ID\",\"Nilai Kelayakan\"])\n",
        "    for i in range(20):\n",
        "        spamwriter.writerow(DeFuzzification[i])"
      ],
      "execution_count": null,
      "outputs": []
    },
    {
      "cell_type": "code",
      "metadata": {
        "colab": {
          "base_uri": "https://localhost:8080/"
        },
        "id": "swbyNcdGB7zJ",
        "outputId": "a0dfcfe5-ea0f-41da-9e44-aeacce785988"
      },
      "source": [
        "DeFuzzification"
      ],
      "execution_count": null,
      "outputs": [
        {
          "output_type": "execute_result",
          "data": {
            "text/plain": [
              "[[82, 98.9192938418174],\n",
              " [94, 98.91676632487604],\n",
              " [65, 98.89100153901038],\n",
              " [64, 98.86404781184514],\n",
              " [63, 98.83100734752304],\n",
              " [37, 98.82010599514243],\n",
              " [30, 98.76146395177672],\n",
              " [25, 98.74551025683284],\n",
              " [78, 98.72410728657053],\n",
              " [67, 98.5882976287182],\n",
              " [11, 98.5384980057347],\n",
              " [83, 98.52595325936369],\n",
              " [90, 98.48053166864675],\n",
              " [29, 98.47460019919525],\n",
              " [21, 98.46662885551355],\n",
              " [48, 98.41330750271506],\n",
              " [42, 98.41270080575939],\n",
              " [87, 98.35881381593111],\n",
              " [46, 98.33223438192618],\n",
              " [66, 98.21440876852388],\n",
              " [23, 98.19092735094732],\n",
              " [31, 98.1829819214026],\n",
              " [38, 98.00809231692436],\n",
              " [40, 98.00729016511326],\n",
              " [72, 97.98895502791268],\n",
              " [62, 97.86702264291222],\n",
              " [93, 97.69565404908104],\n",
              " [88, 97.69086930954327],\n",
              " [28, 97.59338267943832],\n",
              " [73, 97.53387535047197],\n",
              " [77, 97.40514201962814],\n",
              " [14, 97.24194264291772],\n",
              " [76, 97.01621692386534],\n",
              " [91, 96.97806784447894],\n",
              " [50, 96.96539574274331],\n",
              " [56, 96.91644923797143],\n",
              " [59, 96.77472948250504],\n",
              " [10, 96.7660447756409],\n",
              " [39, 96.72748384964876],\n",
              " [68, 96.51025024902087],\n",
              " [100, 96.33186852591491],\n",
              " [20, 95.59128681808897],\n",
              " [8, 95.39531826895197],\n",
              " [9, 94.62942883734456],\n",
              " [81, 92.63959990253196],\n",
              " [89, 92.08124099192926],\n",
              " [12, 92.05763595175729],\n",
              " [16, 90.37774430374334],\n",
              " [47, 90.16236236420428],\n",
              " [24, 87.11418623429509],\n",
              " [32, 86.22936490919932],\n",
              " [5, 86.00020603182763],\n",
              " [4, 84.58310504002937],\n",
              " [41, 83.30704888720894],\n",
              " [52, 82.89849368178295],\n",
              " [98, 82.46844150368086],\n",
              " [36, 82.35919354189949],\n",
              " [80, 79.7498759697216],\n",
              " [19, 65.01391354183892],\n",
              " [51, 56.20765712729035],\n",
              " [17, 50.66857199669529],\n",
              " [3, 37.46127431733055],\n",
              " [96, 28.801114331735732],\n",
              " [92, 20.280975211064096],\n",
              " [26, 20.046685428210356],\n",
              " [27, 15.674919987724781],\n",
              " [69, 13.519749580442731],\n",
              " [15, 7.119209567146535],\n",
              " [57, 5.695799438662521],\n",
              " [55, 2.78123429872241],\n",
              " [97, 2.7664581669246284],\n",
              " [33, 2.6433185150894913],\n",
              " [44, 2.521443850019124],\n",
              " [75, 2.488354171976291],\n",
              " [7, 2.461695030059642],\n",
              " [86, 2.411724188036895],\n",
              " [49, 2.2179872394958293],\n",
              " [71, 2.1996789610002105],\n",
              " [99, 2.1736799010873225],\n",
              " [13, 2.123128777790726],\n",
              " [1, 2.0517532209470737],\n",
              " [34, 2.02722798931248],\n",
              " [43, 2.0224949233184732],\n",
              " [84, 1.9421562106514767],\n",
              " [45, 1.8569068046824386],\n",
              " [79, 1.8006794908106165],\n",
              " [54, 1.7923199231753748],\n",
              " [53, 1.772370036140899],\n",
              " [18, 1.7278342667549218],\n",
              " [2, 1.6222369352791794],\n",
              " [61, 1.6039800863834857],\n",
              " [6, 1.5896994469639039],\n",
              " [58, 1.580167701356947],\n",
              " [35, 1.545279536448531],\n",
              " [95, 1.461397955172073],\n",
              " [70, 1.4392711040828332],\n",
              " [85, 1.3277054939128234],\n",
              " [74, 1.3082009126198708],\n",
              " [22, 1.30716360685527],\n",
              " [60, 1.3056998818012377]]"
            ]
          },
          "metadata": {
            "tags": []
          },
          "execution_count": 207
        }
      ]
    },
    {
      "cell_type": "code",
      "metadata": {
        "id": "3Zo18lbwB86t"
      },
      "source": [
        ""
      ],
      "execution_count": null,
      "outputs": []
    },
    {
      "cell_type": "code",
      "metadata": {
        "id": "bFZQLJthKXvW"
      },
      "source": [
        ""
      ],
      "execution_count": null,
      "outputs": []
    }
  ]
}